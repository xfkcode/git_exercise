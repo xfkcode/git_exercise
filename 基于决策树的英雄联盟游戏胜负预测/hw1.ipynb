{
 "cells": [
  {
   "cell_type": "markdown",
   "metadata": {},
   "source": [
    "本次以英雄联盟对局胜负预测任务为基础，要求实现决策树算法相关细节，加深对算法的理解，并了解做机器学习任务的大致流程。"
   ]
  },
  {
   "cell_type": "markdown",
   "metadata": {},
   "source": [
    "### 任务介绍\n",
    "英雄联盟（League of Legends，LoL）是一个多人在线竞技游戏，由拳头游戏（Riot Games）公司出品。在游戏中，每位玩家控制一位有独特技能的英雄，红蓝两支队伍各有五位玩家进行对战，目标是摧毁对方的基地水晶。水晶有多座防御塔保护，通常需要先摧毁一些防御塔再摧毁水晶。玩家所控制的英雄起初非常弱，需要不断击杀小兵、野怪和对方英雄来获得金币、经验。经验可以提升英雄等级和技能等级，金币可以用来购买装备提升攻击、防御等属性。对战过程中一般没有己方单位在附近的地点是没有视野的，即无法看到对面单位，双方可以通过使用守卫来监视某个地点，洞察对面走向、制定战术。\n",
    "本数据集来自[Kaggle](https://www.kaggle.com/bobbyscience/league-of-legends-diamond-ranked-games-10-min)，包含了9879场钻一到大师段位的单双排对局，对局双方几乎是同一水平。每条数据是前10分钟的对局情况，每支队伍有19个特征，红蓝双方共38个特征。这些特征包括英雄击杀、死亡，金钱、经验、等级情况等等。一局游戏一般会持续30至40分钟，但是实际前10分钟的局面很大程度上影响了之后胜负的走向。作为最成功的电子竞技游戏之一，对局数据、选手数据的量化与研究具有重要意义，可以启发游戏将来的发展和改进。\n",
    "\n",
    "本任务是希望同学们依据注释的要求，对代码中空缺部分进行填写，**完成决策树模型的详细实现**，根据已有的对局前10分钟特征信息，预测最后获胜方是蓝色方还是红色方，了解执行一个**机器学习任务的大致流程**，并**提交代码和实验报告**。第一次作业也是一个机器学习小实验的例子，之后的作业可能不再提供预处理等流程代码，由同学们自己设计实验完成代码编写。"
   ]
  },
  {
   "cell_type": "markdown",
   "metadata": {},
   "source": [
    "### 导入工具包\n",
    "pandas是数据分析和处理常用的工具包，非常适合处理行列表格数据。numpy是数学运算工具包，支持高效的矩阵、向量运算。sklearn是机器学习常用工具包，包括了一些已经实现好的简单模型和一些常用数据处理方法、评价指标等函数。"
   ]
  },
  {
   "cell_type": "code",
   "execution_count": null,
   "metadata": {},
   "outputs": [],
   "source": [
    "from collections import Counter\n",
    "import pandas as pd # 数据处理\n",
    "import numpy as np # 数学运算\n",
    "from sklearn.model_selection import train_test_split, cross_validate # 划分数据集函数\n",
    "from sklearn.metrics import accuracy_score # 准确率函数\n",
    "RANDOM_SEED = 2020 # 固定随机种子"
   ]
  },
  {
   "cell_type": "markdown",
   "metadata": {},
   "source": [
    "### 读入数据\n",
    "假设数据文件放在`./data/`目录下，标准的csv文件可以用pandas里的`read_csv()`函数直接读入。文件共有40列，38个特征（红蓝方各19），1个标签列（blueWins），和一个对局标号（gameId）。对局标号不是标签也不是特征，可以舍去。"
   ]
  },
  {
   "cell_type": "code",
   "execution_count": null,
   "metadata": {
    "scrolled": false
   },
   "outputs": [],
   "source": [
    "csv_data = './data/high_diamond_ranked_10min.csv' # 数据路径\n",
    "data_df = pd.read_csv(csv_data, sep=',') # 读入csv文件为pandas的DataFrame\n",
    "data_df = data_df.drop(columns='gameId') # 舍去对局标号列"
   ]
  },
  {
   "cell_type": "markdown",
   "metadata": {},
   "source": [
    "###  数据概览\n",
    "对于一个机器学习问题，在拿到任务和数据后，首先需要观察数据的情况，比如我们可以通过`.iloc[0]`取出数据的第一行并输出。不难看出每个特征都存成了float64浮点数，该对局蓝色方开局10分钟有小优势。同时也可以发现有些特征列是重复冗余的，比如blueGoldDiff表示蓝色队金币优势，redGoldDiff表示红色方金币优势，这两个特征是完全对称的互为相反数。blueCSPerMin是蓝色方每分钟击杀小兵数，它乘10就是10分钟所有小兵击杀数blueTotalMinionsKilled。在之后的特征处理过程中可以考虑去除这些冗余特征。\n",
    "另外，pandas有非常方便的`describe()`函数，可以直接通过DataFrame进行调用，可以展示每一列数据的一些统计信息，对数据分布情况有大致了解，比如blueKills蓝色方击杀英雄数在前十分钟的平均数是6.14、方差为2.93，中位数是6，百分之五十以上的对局中该特征在4-8之间，等等。"
   ]
  },
  {
   "cell_type": "code",
   "execution_count": null,
   "metadata": {
    "scrolled": false
   },
   "outputs": [],
   "source": [
    "print(data_df.iloc[0]) # 输出第一行数据\n",
    "data_df.describe() # 每列特征的简单统计信息"
   ]
  },
  {
   "cell_type": "markdown",
   "metadata": {},
   "source": [
    "### 增删特征\n",
    "传统的机器学习模型大部分都是基于特征的，因此特征工程是机器学习中非常重要的一步。有时构造一个好的特征比改进一个模型带来的提升更大。这里简单展示一些特征处理的例子。首先，上面提到，特征列中有些特征信息是完全冗余的，会给模型带来不必要的计算量，可以去除。其次，相比于红蓝双方击杀、助攻的绝对值，可能双方击杀英雄的差值更能体现出当前对战的局势。因此，我们可以构造红蓝双方对应特征的差值。数据文件中已有的差值是金币差GoldDiff和经验差ExperienceDiff，实际上每个对应特征都可以构造这样的差值特征。"
   ]
  },
  {
   "cell_type": "code",
   "execution_count": null,
   "metadata": {},
   "outputs": [],
   "source": [
    "drop_features = ['blueGoldDiff', 'redGoldDiff', \n",
    "                 'blueExperienceDiff', 'redExperienceDiff', \n",
    "                 'blueCSPerMin', 'redCSPerMin', \n",
    "                 'blueGoldPerMin', 'redGoldPerMin'] # 需要舍去的特征列\n",
    "df = data_df.drop(columns=drop_features) # 舍去特征列\n",
    "info_names = [c[3:] for c in df.columns if c.startswith('red')] # 取出要作差值的特征名字（除去red前缀）\n",
    "for info in info_names: # 对于每个特征名字\n",
    "    df['br' + info] = df['blue' + info] - df['red' + info] # 构造一个新的特征，由蓝色特征减去红色特征，前缀为br\n",
    "# 其中FirstBlood为首次击杀最多有一只队伍能获得，brFirstBlood=1为蓝，0为没有产生，-1为红\n",
    "df = df.drop(columns=['blueFirstBlood', 'redFirstBlood']) # 原有的FirstBlood可删除"
   ]
  },
  {
   "cell_type": "markdown",
   "metadata": {},
   "source": [
    "### 特征离散化\n",
    "决策树ID3算法一般是基于离散特征的，本例中存在很多连续的数值特征，例如队伍金币。直接应用该算法每个值当作一个该特征的一个取值可能造成严重的过拟合，因此需要对特征进行离散化，即将一定范围内的值映射成一个值，例如对用户年龄特征，将0-10映射到0，11-18映射到1，19-25映射到2，25-30映射到3，等等类似，然后在决策树构建时使用映射后的值计算信息增益。\n",
    "\n",
    "***本小节要求实现特征离散化，请补全相关代码***"
   ]
  },
  {
   "cell_type": "code",
   "execution_count": null,
   "metadata": {
    "scrolled": false
   },
   "outputs": [],
   "source": [
    "discrete_df = df.copy() # 先复制一份数据\n",
    "for c in df.columns[1:]: # 遍历每一列特征，跳过标签列\n",
    "    '''\n",
    "    请离散化每一列特征，即discrete_df[c] = ...\n",
    "    \n",
    "    提示：\n",
    "    对于有些特征本身取值就很少，可以跳过即 if ... : continue\n",
    "    对于其他特征，可以使用等区间离散化、等密度离散化或一些其他离散化方法\n",
    "    可参考使用pandas.cut或qcut\n",
    "    '''"
   ]
  },
  {
   "cell_type": "markdown",
   "metadata": {},
   "source": [
    "### 数据集准备\n",
    "构建机器学习模型前要构建训练和测试的数据集。在本例中首先需要分开标签和特征，标签是不能作为模型的输入特征的，就好比作业和试卷答案不能在做题和考试前就告诉学生。测试一个模型在一个任务上的效果至少需要训练集和测试集，训练集用来训练模型的参数，好比学生做作业获得知识，测试集用来测试模型效果，好比期末考试考察学生学习情况。测试集的样本不应该出现在训练集中，否则会造成模型效果估计偏高，好比考试时出的题如果是作业题中出现过的，会造成考试分数不能准确衡量学生的学习情况，估计值偏高。划分训练集和测试集有多种方法，下面首先介绍的是随机取一部分如20%作测试集，剩下作训练集。sklearn提供了相关工具函数`train_test_split`。sklearn的输入输出一般为numpy的array矩阵，需要先将pandas的DataFrame取出为numpy的array矩阵。"
   ]
  },
  {
   "cell_type": "code",
   "execution_count": null,
   "metadata": {},
   "outputs": [],
   "source": [
    "all_y = discrete_df['blueWins'].values # 所有标签数据\n",
    "feature_names = discrete_df.columns[1:] # 所有特征的名称\n",
    "all_x = discrete_df[feature_names].values # 所有原始特征值，pandas的DataFrame.values取出为numpy的array矩阵\n",
    "\n",
    "# 划分训练集和测试集\n",
    "x_train, x_test, y_train, y_test = train_test_split(all_x, all_y, test_size=0.2, random_state=RANDOM_SEED)\n",
    "all_y.shape, all_x.shape, x_train.shape, x_test.shape, y_train.shape, y_test.shape # 输出数据行列信息"
   ]
  },
  {
   "cell_type": "markdown",
   "metadata": {},
   "source": [
    "###  决策树模型的实现\n",
    "***本小节要求实现决策树模型，请补全算法代码***"
   ]
  },
  {
   "cell_type": "code",
   "execution_count": null,
   "metadata": {
    "scrolled": true
   },
   "outputs": [],
   "source": [
    "# 定义决策树类\n",
    "class DecisionTree(object):\n",
    "    def __init__(self, classes, features, \n",
    "                 max_depth=10, min_samples_split=10,\n",
    "                 impurity_t='entropy'):\n",
    "        '''\n",
    "        传入一些可能用到的模型参数，也可能不会用到\n",
    "        classes表示模型分类总共有几类\n",
    "        features是每个特征的名字，也方便查询总的共特征数\n",
    "        max_depth表示构建决策树时的最大深度\n",
    "        min_samples_split表示构建决策树分裂节点时，如果到达该节点的样本数小于该值则不再分裂\n",
    "        impurity_t表示计算混杂度（不纯度）的计算方式，例如entropy或gini\n",
    "        '''  \n",
    "        self.classes = classes\n",
    "        self.features = features\n",
    "        self.max_depth = max_depth\n",
    "        self.min_samples_split = min_samples_split\n",
    "        self.impurity_t = impurity_t\n",
    "        self.root = None # 定义根节点，未训练时为空\n",
    "        \n",
    "    '''\n",
    "    请实现决策树算法，使得fit函数和predict函数可以正常调用，跑通之后的测试代码，\n",
    "    要求之后测试代码输出的准确率大于0.6。\n",
    "    \n",
    "    提示：\n",
    "    可以定义额外一些函数，例如\n",
    "    impurity()用来计算混杂度\n",
    "    gain()调用impurity用来计算信息增益\n",
    "    expand_node()训练时递归函数分裂节点，考虑不同情况\n",
    "        1. 无需分裂 或 达到分裂阈值\n",
    "        2. 调用gain()找到最佳分裂特征，递归调用expand_node\n",
    "        3. 找不到有用的分裂特征\n",
    "        fit函数调用该函数返回根节点\n",
    "    traverse_node()预测时遍历节点，考虑不同情况\n",
    "        1. 已经到达叶节点，则返回分类结果\n",
    "        2. 该特征取值在训练集中未出现过\n",
    "        3. 依据特征取值进入相应子节点，递归调用traverse_node\n",
    "    当然也可以有其他实现方式。\n",
    "\n",
    "    '''\n",
    "    \n",
    "        \n",
    "    def fit(self, feature, label):\n",
    "        assert len(self.features) == len(feature[0]) # 输入数据的特征数目应该和模型定义时的特征数目相同\n",
    "        '''\n",
    "        训练模型\n",
    "        feature为二维numpy（n*m）数组，每行表示一个样本，有m个特征\n",
    "        label为一维numpy（n）数组，表示每个样本的分类标签\n",
    "        \n",
    "        提示：一种可能的实现方式为\n",
    "        self.root = self.expand_node(feature, label, depth=1) # 从根节点开始分裂，模型记录根节点\n",
    "        '''\n",
    "        \n",
    "        \n",
    "    \n",
    "    def predict(self, feature):\n",
    "        assert len(feature.shape) == 1 or len(feature.shape) == 2 # 只能是1维或2维\n",
    "        '''\n",
    "        预测\n",
    "        输入feature可以是一个一维numpy数组也可以是一个二维numpy数组\n",
    "        如果是一维numpy（m）数组则是一个样本，包含m个特征，返回一个类别值\n",
    "        如果是二维numpy（n*m）数组则表示n个样本，每个样本包含m个特征，返回一个numpy一维数组\n",
    "        \n",
    "        提示：一种可能的实现方式为\n",
    "        if len(feature.shape) == 1: # 如果是一个样本\n",
    "            return self.traverse_node(self.root, feature) # 从根节点开始路由\n",
    "        return np.array([self.traverse_node(self.root, f) for f in feature]) # 如果是很多个样本\n",
    "        '''\n",
    "        \n",
    "# 定义决策树模型，传入算法参数\n",
    "DT = DecisionTree(classes=[0,1], features=feature_names, max_depth=5, min_samples_split=10, impurity_t='gini')\n",
    "\n",
    "DT.fit(x_train, y_train) # 在训练集上训练\n",
    "p_test = DT.predict(x_test) # 在测试集上预测，获得预测值\n",
    "print(p_test) # 输出预测值\n",
    "test_acc = accuracy_score(p_test, y_test) # 将测试预测值与测试集标签对比获得准确率\n",
    "print('accuracy: {:.4f}'.format(test_acc)) # 输出准确率"
   ]
  },
  {
   "cell_type": "markdown",
   "metadata": {},
   "source": [
    "### 模型调优\n",
    "第一次模型测试结果可能不够好，可以先检查调试代码是否有bug，再尝试调整参数或者优化计算方法。"
   ]
  },
  {
   "cell_type": "markdown",
   "metadata": {},
   "source": [
    "### 总结\n",
    "一个完整的机器学习任务包括：确定任务、数据分析、特征工程、数据集划分、模型设计、模型训练和效果测试、结果分析和调优等多个阶段，本案例以英雄联盟游戏胜负预测任务为例，给出了每个阶段的一些简单例子，帮助大家入门机器学习，希望大家有所收获！"
   ]
  }
 ],
 "metadata": {
  "kernelspec": {
   "display_name": "Python 3",
   "language": "python",
   "name": "python3"
  },
  "language_info": {
   "codemirror_mode": {
    "name": "ipython",
    "version": 3
   },
   "file_extension": ".py",
   "mimetype": "text/x-python",
   "name": "python",
   "nbconvert_exporter": "python",
   "pygments_lexer": "ipython3",
   "version": "3.7.6"
  }
 },
 "nbformat": 4,
 "nbformat_minor": 2
}
