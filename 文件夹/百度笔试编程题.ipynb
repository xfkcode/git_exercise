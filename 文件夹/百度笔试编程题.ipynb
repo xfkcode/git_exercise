{
 "cells": [
  {
   "cell_type": "code",
   "execution_count": 7,
   "metadata": {},
   "outputs": [],
   "source": [
    "# 最大输出：m回合，n技能，不能连续使用同一个技能超过k次，技能伤害列表nlist\n",
    "def maxhurt(n,m,k,nlist):\n",
    "    ans=0\n",
    "    nlist.sort()\n",
    "    nlist=nlist[::-1]\n",
    "    t=0\n",
    "    i=0\n",
    "    for rd in range(m):\n",
    "        if t<k :\n",
    "            ans+=nlist[i]\n",
    "            t+=1\n",
    "        else:\n",
    "            ans+=nlist[i+1]\n",
    "            t-=1\n",
    "    return ans        "
   ]
  },
  {
   "cell_type": "code",
   "execution_count": 8,
   "metadata": {},
   "outputs": [
    {
     "name": "stdout",
     "output_type": "stream",
     "text": [
      "15\n"
     ]
    }
   ],
   "source": [
    "ans=maxhurt(4,4,2,[4,3,2,1])\n",
    "print(ans)"
   ]
  },
  {
   "cell_type": "code",
   "execution_count": 35,
   "metadata": {},
   "outputs": [],
   "source": [
    "# 买蛋糕模拟：蛋糕数量numcake，价格列表price，蛋糕上层口味列表upf，蛋糕下层口味列表downf，顾客数numpeople，顾客口味偏好列表taste\n",
    "# 返回购买顺序价格列表，没有买到返回-1\n",
    "def buycake(numcake:int,price:list[int],upf:list[int],\n",
    "            downf:list[int],numpeople:int,taste:list[int]) -> list[int]:\n",
    "    ans=[]\n",
    "    for p in range(numpeople):\n",
    "        t=taste[p]\n",
    "        choose=[]\n",
    "        for c in range(numcake):\n",
    "            if upf[c] == t or downf[c] == t:\n",
    "                choose.append(c)\n",
    "        if choose==None:\n",
    "            return ans.append(-1)\n",
    "        lowprice=1e9\n",
    "        best=0\n",
    "        for dec in choose:\n",
    "            if price[dec]<lowprice:\n",
    "                lowprice=price[dec]\n",
    "                best=dec\n",
    "        ans.append(price[best])\n",
    "        price[best]=-1\n",
    "        upf[best]=0\n",
    "        downf[best]=0\n",
    "    return ans        "
   ]
  },
  {
   "cell_type": "code",
   "execution_count": 36,
   "metadata": {},
   "outputs": [
    {
     "name": "stdout",
     "output_type": "stream",
     "text": [
      "[10, 30, 20, -1]\n"
     ]
    }
   ],
   "source": [
    "ans=buycake(3,[10,20,30],[1,2,1],[2,1,3],4,[2,3,1,3])\n",
    "print(ans)"
   ]
  },
  {
   "cell_type": "code",
   "execution_count": null,
   "metadata": {},
   "outputs": [],
   "source": []
  },
  {
   "cell_type": "code",
   "execution_count": null,
   "metadata": {},
   "outputs": [],
   "source": []
  }
 ],
 "metadata": {
  "kernelspec": {
   "display_name": "Python 3.9.12 ('base')",
   "language": "python",
   "name": "python3"
  },
  "language_info": {
   "codemirror_mode": {
    "name": "ipython",
    "version": 3
   },
   "file_extension": ".py",
   "mimetype": "text/x-python",
   "name": "python",
   "nbconvert_exporter": "python",
   "pygments_lexer": "ipython3",
   "version": "3.9.12"
  },
  "orig_nbformat": 4,
  "vscode": {
   "interpreter": {
    "hash": "a825f8e8905b8e64233e6384cfa1616d0baa442a3b458fa78e4916d5c671b0d4"
   }
  }
 },
 "nbformat": 4,
 "nbformat_minor": 2
}
